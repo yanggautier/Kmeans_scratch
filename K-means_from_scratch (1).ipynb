{
 "cells": [
  {
   "cell_type": "markdown",
   "metadata": {},
   "source": [
    "KNN"
   ]
  },
  {
   "cell_type": "markdown",
   "metadata": {},
   "source": [
    "1.Attribuez aléatoirement des centroïdes pour démarrer les choses.\n",
    "\n",
    "2. En fonction de ces centroïdes (et de la distance qui les sépare), affectez chaque observation à un cluster.\n",
    "\n",
    "3. Calculez les coordonnées moyennes de chaque cluster; ce sont nos nouveaux centroïdes.\n",
    "\n",
    "4. Réaffectez les clusters en fonction des nouveaux centroïdes.\n",
    "\n",
    "5. Continuez à répéter les étapes 3 et 4 jusqu'à la convergence."
   ]
  },
  {
   "cell_type": "code",
   "execution_count": 1,
   "metadata": {
    "ExecuteTime": {
     "end_time": "2020-06-15T14:23:39.731610Z",
     "start_time": "2020-06-15T14:23:32.092086Z"
    }
   },
   "outputs": [],
   "source": [
    "import pandas as pd\n",
    "import matplotlib.pyplot as plt\n",
    "import numpy as np\n",
    "import numpy.matlib"
   ]
  },
  {
   "cell_type": "code",
   "execution_count": 3,
   "metadata": {
    "ExecuteTime": {
     "end_time": "2020-06-15T14:24:51.448211Z",
     "start_time": "2020-06-15T14:24:51.209333Z"
    }
   },
   "outputs": [
    {
     "data": {
      "text/html": [
       "<div>\n",
       "<style scoped>\n",
       "    .dataframe tbody tr th:only-of-type {\n",
       "        vertical-align: middle;\n",
       "    }\n",
       "\n",
       "    .dataframe tbody tr th {\n",
       "        vertical-align: top;\n",
       "    }\n",
       "\n",
       "    .dataframe thead th {\n",
       "        text-align: right;\n",
       "    }\n",
       "</style>\n",
       "<table border=\"1\" class=\"dataframe\">\n",
       "  <thead>\n",
       "    <tr style=\"text-align: right;\">\n",
       "      <th></th>\n",
       "      <th>Unnamed: 0</th>\n",
       "      <th>normalized_age</th>\n",
       "      <th>normalized_salary</th>\n",
       "    </tr>\n",
       "  </thead>\n",
       "  <tbody>\n",
       "    <tr>\n",
       "      <th>0</th>\n",
       "      <td>0</td>\n",
       "      <td>0.680267</td>\n",
       "      <td>-0.016342</td>\n",
       "    </tr>\n",
       "    <tr>\n",
       "      <th>1</th>\n",
       "      <td>1</td>\n",
       "      <td>3.809518</td>\n",
       "      <td>0.798483</td>\n",
       "    </tr>\n",
       "    <tr>\n",
       "      <th>2</th>\n",
       "      <td>2</td>\n",
       "      <td>-1.661372</td>\n",
       "      <td>-0.577667</td>\n",
       "    </tr>\n",
       "    <tr>\n",
       "      <th>3</th>\n",
       "      <td>3</td>\n",
       "      <td>-0.257307</td>\n",
       "      <td>-0.155552</td>\n",
       "    </tr>\n",
       "    <tr>\n",
       "      <th>4</th>\n",
       "      <td>4</td>\n",
       "      <td>0.698017</td>\n",
       "      <td>0.174561</td>\n",
       "    </tr>\n",
       "    <tr>\n",
       "      <th>...</th>\n",
       "      <td>...</td>\n",
       "      <td>...</td>\n",
       "      <td>...</td>\n",
       "    </tr>\n",
       "    <tr>\n",
       "      <th>995</th>\n",
       "      <td>995</td>\n",
       "      <td>-5.060165</td>\n",
       "      <td>2.482045</td>\n",
       "    </tr>\n",
       "    <tr>\n",
       "      <th>996</th>\n",
       "      <td>996</td>\n",
       "      <td>-5.079404</td>\n",
       "      <td>2.773580</td>\n",
       "    </tr>\n",
       "    <tr>\n",
       "      <th>997</th>\n",
       "      <td>997</td>\n",
       "      <td>-5.861520</td>\n",
       "      <td>3.068426</td>\n",
       "    </tr>\n",
       "    <tr>\n",
       "      <th>998</th>\n",
       "      <td>998</td>\n",
       "      <td>-5.018934</td>\n",
       "      <td>3.110904</td>\n",
       "    </tr>\n",
       "    <tr>\n",
       "      <th>999</th>\n",
       "      <td>999</td>\n",
       "      <td>-6.799331</td>\n",
       "      <td>2.082321</td>\n",
       "    </tr>\n",
       "  </tbody>\n",
       "</table>\n",
       "<p>1000 rows × 3 columns</p>\n",
       "</div>"
      ],
      "text/plain": [
       "     Unnamed: 0  normalized_age  normalized_salary\n",
       "0             0        0.680267          -0.016342\n",
       "1             1        3.809518           0.798483\n",
       "2             2       -1.661372          -0.577667\n",
       "3             3       -0.257307          -0.155552\n",
       "4             4        0.698017           0.174561\n",
       "..          ...             ...                ...\n",
       "995         995       -5.060165           2.482045\n",
       "996         996       -5.079404           2.773580\n",
       "997         997       -5.861520           3.068426\n",
       "998         998       -5.018934           3.110904\n",
       "999         999       -6.799331           2.082321\n",
       "\n",
       "[1000 rows x 3 columns]"
      ]
     },
     "execution_count": 3,
     "metadata": {},
     "output_type": "execute_result"
    }
   ],
   "source": [
    "df = pd.read_csv(\"dataset_1.csv\")\n",
    "df"
   ]
  },
  {
   "cell_type": "code",
   "execution_count": null,
   "metadata": {},
   "outputs": [],
   "source": []
  },
  {
   "cell_type": "code",
   "execution_count": 4,
   "metadata": {
    "ExecuteTime": {
     "end_time": "2020-06-15T14:24:54.559597Z",
     "start_time": "2020-06-15T14:24:53.942645Z"
    }
   },
   "outputs": [
    {
     "data": {
      "text/plain": [
       "<matplotlib.collections.PathCollection at 0x1e11b208cc8>"
      ]
     },
     "execution_count": 4,
     "metadata": {},
     "output_type": "execute_result"
    },
    {
     "data": {
      "image/png": "[encoded data removed]",
      "text/plain": [
       "<Figure size 432x288 with 1 Axes>"
      ]
     },
     "metadata": {
      "needs_background": "light"
     },
     "output_type": "display_data"
    }
   ],
   "source": [
    "plt.scatter(df['normalized_age'], df['normalized_salary'])"
   ]
  },
  {
   "cell_type": "code",
   "execution_count": 5,
   "metadata": {
    "ExecuteTime": {
     "end_time": "2020-06-15T14:24:57.255522Z",
     "start_time": "2020-06-15T14:24:57.242557Z"
    }
   },
   "outputs": [
    {
     "data": {
      "text/plain": [
       "(1000, 2)"
      ]
     },
     "execution_count": 5,
     "metadata": {},
     "output_type": "execute_result"
    }
   ],
   "source": [
    "X = df[['normalized_age','normalized_salary']]\n",
    "X.shape"
   ]
  },
  {
   "cell_type": "markdown",
   "metadata": {},
   "source": [
    "###  Calcule de  la distance euclidienne "
   ]
  },
  {
   "cell_type": "markdown",
   "metadata": {},
   "source": [
    "Distance euclidienne => la racine carrée de la somme des différences au carré entre les deux vecteurs .\n",
    "\n",
    "- Distance euclidienne = sqrt (somme i à N (x1_i - x2_i) ^ 2)\n",
    "\n",
    "Où x1 est la première ligne de données, x2 est la deuxième ligne de données et i est l'index d'une colonne spécifique lorsque nous additionnons toutes les colonnes.\n",
    "\n",
    "Avec la distance euclidienne, plus la valeur est petite, plus les deux enregistrements seront similaires. Une valeur de 0 signifie qu'il n'y a pas de différence entre deux enregistrements."
   ]
  },
  {
   "cell_type": "code",
   "execution_count": 6,
   "metadata": {
    "ExecuteTime": {
     "end_time": "2020-06-15T14:25:00.224772Z",
     "start_time": "2020-06-15T14:25:00.218782Z"
    }
   },
   "outputs": [],
   "source": [
    "def calc_distance(x1, x2):\n",
    "    distance = (sum((x1 - x2)**2))**0.5\n",
    "    return distance"
   ]
  },
  {
   "cell_type": "markdown",
   "metadata": {},
   "source": [
    "###  Assigner les clusters  en fonction du centroïde le plus proche "
   ]
  },
  {
   "cell_type": "code",
   "execution_count": 7,
   "metadata": {
    "ExecuteTime": {
     "end_time": "2020-06-15T14:25:02.111742Z",
     "start_time": "2020-06-15T14:25:02.105735Z"
    }
   },
   "outputs": [],
   "source": [
    "#  calculer la distance entre chaque observation et chaque centroïde\n",
    "def assign_clusters(centroids, cluster_array): # cluster_array correspond à chaque features c a dire X\n",
    "    clusters = []\n",
    "    for i in range(cluster_array.shape[0]):\n",
    "        distances = []\n",
    "        for centroid in centroids:\n",
    "            distances.append(calc_distance(centroid, cluster_array[i])) # on calcule la distance euc entre chaq point et les centroid\n",
    "        cluster = [z for z, val in enumerate(distances) if val==min(distances)]\n",
    "        clusters.append(cluster[0])\n",
    "    return clusters"
   ]
  },
  {
   "cell_type": "markdown",
   "metadata": {},
   "source": [
    "Il attribue ensuite une observation à un cluster en fonction du centroïde dont il est le plus proche. Le résultat est la liste de l'étiquette de cluster de chaque observation."
   ]
  },
  {
   "cell_type": "markdown",
   "metadata": {},
   "source": [
    "pb : les centroides sont assignés aléatoirement "
   ]
  },
  {
   "cell_type": "markdown",
   "metadata": {},
   "source": [
    "### Mise à jour des nouveaux centroïdes"
   ]
  },
  {
   "cell_type": "code",
   "execution_count": 13,
   "metadata": {
    "ExecuteTime": {
     "end_time": "2020-06-15T14:31:44.587809Z",
     "start_time": "2020-06-15T14:31:44.581793Z"
    }
   },
   "outputs": [],
   "source": [
    "# Calculer les nouveaux centroïdes sur la base de la moyenne \n",
    "def calc_centroids(clusters, cluster_array):\n",
    "    new_centroids = []\n",
    "    cluster_df = pd.concat([pd.DataFrame(cluster_array), pd.DataFrame(clusters, columns=['cluster'])], axis=1)\n",
    "    for c in set(cluster_df['cluster']):\n",
    "        current_cluster = cluster_df[cluster_df['cluster'] == c][cluster_df.columns[:-1]]\n",
    "        cluster_mean = current_cluster.mean(axis=0)\n",
    "        new_centroids.append(cluster_mean)\n",
    "    return new_centroids"
   ]
  },
  {
   "cell_type": "markdown",
   "metadata": {},
   "source": [
    "Concatèner les données (salaire et âge de chaque observation), cluster_array et le cluster actuel auquel il appartient, ensemble dans un dataframe => cluster_df "
   ]
  },
  {
   "cell_type": "markdown",
   "metadata": {},
   "source": [
    "### Calculer la variance à l'intérieur de chaque cluster"
   ]
  },
  {
   "cell_type": "code",
   "execution_count": 9,
   "metadata": {
    "ExecuteTime": {
     "end_time": "2020-06-15T14:25:18.699563Z",
     "start_time": "2020-06-15T14:25:18.692580Z"
    }
   },
   "outputs": [],
   "source": [
    "def calc_centroid_variance(clusters, cluster_array):\n",
    "    sum_squares = []\n",
    "    cluster_df = pd.concat([pd.DataFrame(cluster_array), pd.DataFrame(clusters, columns=['cluster'])], axis=1)\n",
    "    for c in set(cluster_df['cluster']):\n",
    "        current_cluster = cluster_df[cluster_df['cluster'] ==c][cluster_df.columns[:-1]]\n",
    "        cluster_mean = current_cluster.mean(axis=0)\n",
    "        mean_repmat = np.matlib.repmat(cluster_mean, current_cluster.shape[0],1)\n",
    "        sum_squares.append(np.sum(np.sum((current_cluster - mean_repmat)**2)))\n",
    "    return sum_squares"
   ]
  },
  {
   "cell_type": "markdown",
   "metadata": {},
   "source": [
    "On filtre cluster_df par cluster, calcule la moyenne, puis soustrait la moyenne du cluster de chaque observation au sein du cluster.\n",
    "repmat , prend un tableau donné et le reproduit - dans notre cas, nous voulons copier la moyenne autant de fois que nous avons d'observations afin de pouvoir soustraire directement les deux tableaux."
   ]
  },
  {
   "cell_type": "code",
   "execution_count": 18,
   "metadata": {
    "ExecuteTime": {
     "end_time": "2020-06-15T14:44:12.313581Z",
     "start_time": "2020-06-15T14:44:12.308593Z"
    }
   },
   "outputs": [
    {
     "name": "stdout",
     "output_type": "stream",
     "text": [
      "[[ 0.68026725 -0.01634235]\n",
      " [ 3.80951844  0.79848348]\n",
      " [-1.6613724  -0.57766695]\n",
      " ...\n",
      " [-5.86152028  3.06842556]\n",
      " [-5.01893361  3.11090369]\n",
      " [-6.79933099  2.08232074]]\n"
     ]
    }
   ],
   "source": [
    "cluster_data = X\n",
    "cluster_array = np.array(cluster_data)\n",
    "\n",
    "print(cluster_array)"
   ]
  },
  {
   "cell_type": "code",
   "execution_count": 260,
   "metadata": {},
   "outputs": [],
   "source": [
    "#centroidbis = [(numpy.mean(X[numpy.where(numpy.array(clusters) == cent)],axis=0)) for cent in range(k)]"
   ]
  },
  {
   "cell_type": "code",
   "execution_count": 17,
   "metadata": {
    "ExecuteTime": {
     "end_time": "2020-06-15T14:42:41.412956Z",
     "start_time": "2020-06-15T14:42:39.249233Z"
    }
   },
   "outputs": [
    {
     "name": "stdout",
     "output_type": "stream",
     "text": [
      "0 5562.0\n",
      "[0   -3.334835\n",
      "1    1.543255\n",
      "dtype: float64, 0    2.961672\n",
      "1    0.697238\n",
      "dtype: float64]\n",
      "1 2786.0\n",
      "[0   -4.689470\n",
      "1    2.006967\n",
      "dtype: float64, 0    1.089003\n",
      "1    0.259177\n",
      "dtype: float64]\n",
      "2 1224.0\n",
      "[0   -5.730647\n",
      "1    2.677255\n",
      "dtype: float64, 0    0.280268\n",
      "1    0.072948\n",
      "dtype: float64]\n",
      "3 986.0\n",
      "[0   -5.956853\n",
      "1    2.931999\n",
      "dtype: float64, 0    0.037322\n",
      "1    0.015725\n",
      "dtype: float64]\n",
      "4 980.0\n"
     ]
    }
   ],
   "source": [
    "# Calculer les nouveaux centroïdes sur la base de la moyenne \n",
    "def calc_centroids(clusters, cluster_array):\n",
    "    new_centroids = []\n",
    "    cluster_df = pd.concat([pd.DataFrame(cluster_array), pd.DataFrame(clusters, columns=['cluster'])], axis=1)\n",
    "    for c in set(cluster_df['cluster']):\n",
    "        current_cluster = cluster_df[cluster_df['cluster'] == c][cluster_df.columns[:-1]]\n",
    "        cluster_mean = current_cluster.mean(axis=0)\n",
    "        new_centroids.append(cluster_mean)\n",
    "    return new_centroids\n",
    "\n",
    "def calc_centroid_variance(clusters, cluster_array):\n",
    "    sum_squares = []\n",
    "    cluster_df = pd.concat([pd.DataFrame(cluster_array), pd.DataFrame(clusters, columns=['cluster'])], axis=1)\n",
    "    for c in set(cluster_df['cluster']):\n",
    "        current_cluster = cluster_df[cluster_df['cluster'] ==c][cluster_df.columns[:-1]]\n",
    "        cluster_mean = current_cluster.mean(axis=0)\n",
    "        mean_repmat = np.matlib.repmat(cluster_mean, current_cluster.shape[0],1)\n",
    "        sum_squares.append(np.sum(np.sum((current_cluster - mean_repmat)**2)))\n",
    "    return sum_squares\n",
    "\n",
    "cluster_data = X\n",
    "cluster_array = np.array(cluster_data)\n",
    "\n",
    "k = 2\n",
    "cluster_vars = []\n",
    "iteration = 4\n",
    "i = 0\n",
    "centroids = [cluster_array[i] for i in range(k)]\n",
    "clusters = assign_clusters(centroids, cluster_array)\n",
    "# print(clusters)\n",
    "print(0, round(np.mean(calc_centroid_variance(clusters, cluster_array))))\n",
    "\n",
    "while i < iteration:\n",
    "    centroids = calc_centroids(clusters, cluster_array)\n",
    "    print(centroids)\n",
    "    clusters = assign_clusters(centroids, cluster_array)\n",
    "    cluster_var = np.mean(calc_centroid_variance(clusters, cluster_array))\n",
    "    cluster_vars.append(cluster_var)\n",
    "    i+=1\n",
    "    print(i, round(cluster_var))"
   ]
  },
  {
   "cell_type": "markdown",
   "metadata": {},
   "source": [
    "cluster_vars => la moyenne des sommes d'écarts au carré des clusters par rapport à leurs centroïdes dans la liste \n",
    "Cette moyenne est une mesure approximative du niveau de variance au sein de chaque cluster. \n",
    "A partir de la 5éme itaration elle  se stabilise."
   ]
  },
  {
   "cell_type": "code",
   "execution_count": 265,
   "metadata": {},
   "outputs": [
    {
     "data": {
      "image/png": "[encoded data removed]",
      "text/plain": [
       "<Figure size 432x288 with 1 Axes>"
      ]
     },
     "metadata": {
      "needs_background": "light"
     },
     "output_type": "display_data"
    }
   ],
   "source": [
    "plt.scatter(df['normalized_age'], df['normalized_salary'])\n",
    "plt.scatter(centroids[0],centroids[1], c='r')\n",
    "plt.show()"
   ]
  },
  {
   "cell_type": "code",
   "execution_count": 266,
   "metadata": {},
   "outputs": [
    {
     "data": {
      "text/html": [
       "<div>\n",
       "<style scoped>\n",
       "    .dataframe tbody tr th:only-of-type {\n",
       "        vertical-align: middle;\n",
       "    }\n",
       "\n",
       "    .dataframe tbody tr th {\n",
       "        vertical-align: top;\n",
       "    }\n",
       "\n",
       "    .dataframe thead th {\n",
       "        text-align: right;\n",
       "    }\n",
       "</style>\n",
       "<table border=\"1\" class=\"dataframe\">\n",
       "  <thead>\n",
       "    <tr style=\"text-align: right;\">\n",
       "      <th></th>\n",
       "      <th>0</th>\n",
       "      <th>1</th>\n",
       "      <th>cluster</th>\n",
       "    </tr>\n",
       "  </thead>\n",
       "  <tbody>\n",
       "    <tr>\n",
       "      <th>0</th>\n",
       "      <td>0.680267</td>\n",
       "      <td>-0.016342</td>\n",
       "      <td>1</td>\n",
       "    </tr>\n",
       "    <tr>\n",
       "      <th>1</th>\n",
       "      <td>3.809518</td>\n",
       "      <td>0.798483</td>\n",
       "      <td>1</td>\n",
       "    </tr>\n",
       "    <tr>\n",
       "      <th>2</th>\n",
       "      <td>-1.661372</td>\n",
       "      <td>-0.577667</td>\n",
       "      <td>1</td>\n",
       "    </tr>\n",
       "    <tr>\n",
       "      <th>3</th>\n",
       "      <td>-0.257307</td>\n",
       "      <td>-0.155552</td>\n",
       "      <td>1</td>\n",
       "    </tr>\n",
       "    <tr>\n",
       "      <th>4</th>\n",
       "      <td>0.698017</td>\n",
       "      <td>0.174561</td>\n",
       "      <td>1</td>\n",
       "    </tr>\n",
       "    <tr>\n",
       "      <th>...</th>\n",
       "      <td>...</td>\n",
       "      <td>...</td>\n",
       "      <td>...</td>\n",
       "    </tr>\n",
       "    <tr>\n",
       "      <th>995</th>\n",
       "      <td>-5.060165</td>\n",
       "      <td>2.482045</td>\n",
       "      <td>0</td>\n",
       "    </tr>\n",
       "    <tr>\n",
       "      <th>996</th>\n",
       "      <td>-5.079404</td>\n",
       "      <td>2.773580</td>\n",
       "      <td>0</td>\n",
       "    </tr>\n",
       "    <tr>\n",
       "      <th>997</th>\n",
       "      <td>-5.861520</td>\n",
       "      <td>3.068426</td>\n",
       "      <td>0</td>\n",
       "    </tr>\n",
       "    <tr>\n",
       "      <th>998</th>\n",
       "      <td>-5.018934</td>\n",
       "      <td>3.110904</td>\n",
       "      <td>0</td>\n",
       "    </tr>\n",
       "    <tr>\n",
       "      <th>999</th>\n",
       "      <td>-6.799331</td>\n",
       "      <td>2.082321</td>\n",
       "      <td>0</td>\n",
       "    </tr>\n",
       "  </tbody>\n",
       "</table>\n",
       "<p>1000 rows × 3 columns</p>\n",
       "</div>"
      ],
      "text/plain": [
       "            0         1  cluster\n",
       "0    0.680267 -0.016342        1\n",
       "1    3.809518  0.798483        1\n",
       "2   -1.661372 -0.577667        1\n",
       "3   -0.257307 -0.155552        1\n",
       "4    0.698017  0.174561        1\n",
       "..        ...       ...      ...\n",
       "995 -5.060165  2.482045        0\n",
       "996 -5.079404  2.773580        0\n",
       "997 -5.861520  3.068426        0\n",
       "998 -5.018934  3.110904        0\n",
       "999 -6.799331  2.082321        0\n",
       "\n",
       "[1000 rows x 3 columns]"
      ]
     },
     "execution_count": 266,
     "metadata": {},
     "output_type": "execute_result"
    }
   ],
   "source": [
    "cluster_df = pd.concat([pd.DataFrame(cluster_array), pd.DataFrame(clusters, columns=['cluster'])], axis=1)\n",
    "cluster_df"
   ]
  },
  {
   "cell_type": "code",
   "execution_count": 267,
   "metadata": {
    "scrolled": true
   },
   "outputs": [
    {
     "data": {
      "image/png": "[encoded data removed]",
      "text/plain": [
       "<Figure size 432x288 with 1 Axes>"
      ]
     },
     "metadata": {
      "needs_background": "light"
     },
     "output_type": "display_data"
    }
   ],
   "source": [
    "plt.scatter(cluster_df[0], cluster_df[1], c=clusters)\n",
    "plt.scatter(centroids[0],centroids[1], c='r')\n",
    "plt.show()"
   ]
  },
  {
   "cell_type": "code",
   "execution_count": null,
   "metadata": {},
   "outputs": [],
   "source": []
  },
  {
   "cell_type": "code",
   "execution_count": null,
   "metadata": {},
   "outputs": [],
   "source": []
  },
  {
   "cell_type": "code",
   "execution_count": null,
   "metadata": {},
   "outputs": [],
   "source": []
  }
 ],
 "metadata": {
  "kernelspec": {
   "display_name": "Python 3",
   "language": "python",
   "name": "python3"
  },
  "latex_envs": {
   "LaTeX_envs_menu_present": true,
   "autoclose": false,
   "autocomplete": true,
   "bibliofile": "biblio.bib",
   "cite_by": "apalike",
   "current_citInitial": 1,
   "eqLabelWithNumbers": true,
   "eqNumInitial": 1,
   "hotkeys": {
    "equation": "Ctrl-E",
    "itemize": "Ctrl-I"
   },
   "labels_anchors": false,
   "latex_user_defs": false,
   "report_style_numbering": false,
   "user_envs_cfg": false
  },
  "toc": {
   "base_numbering": 1,
   "nav_menu": {},
   "number_sections": true,
   "sideBar": true,
   "skip_h1_title": false,
   "title_cell": "Table of Contents",
   "title_sidebar": "Contents",
   "toc_cell": false,
   "toc_position": {},
   "toc_section_display": true,
   "toc_window_display": false
  },
  "varInspector": {
   "cols": {
    "lenName": 16,
    "lenType": 16,
    "lenVar": 40
   },
   "kernels_config": {
    "python": {
     "delete_cmd_postfix": "",
     "delete_cmd_prefix": "del ",
     "library": "var_list.py",
     "varRefreshCmd": "print(var_dic_list())"
    },
    "r": {
     "delete_cmd_postfix": ") ",
     "delete_cmd_prefix": "rm(",
     "library": "var_list.r",
     "varRefreshCmd": "cat(var_dic_list()) "
    }
   },
   "types_to_exclude": [
    "module",
    "function",
    "builtin_function_or_method",
    "instance",
    "_Feature"
   ],
   "window_display": false
  }
 },
 "nbformat": 4,
 "nbformat_minor": 4
}
