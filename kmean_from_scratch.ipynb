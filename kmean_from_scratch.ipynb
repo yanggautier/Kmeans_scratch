{
 "cells": [
  {
   "cell_type": "code",
   "execution_count": 196,
   "metadata": {
    "ExecuteTime": {
     "end_time": "2020-06-15T12:58:54.128416Z",
     "start_time": "2020-06-15T12:58:54.118397Z"
    }
   },
   "outputs": [],
   "source": [
    "from sklearn import datasets\n",
    "import random\n",
    "import matplotlib.pyplot as plt\n",
    "import numpy\n",
    "\n",
    "iris = datasets.load_iris()\n",
    "X = iris.data[:, :2]  # we only take the first two features.\n",
    "y = iris.target\n"
   ]
  },
  {
   "cell_type": "code",
   "execution_count": 222,
   "metadata": {
    "ExecuteTime": {
     "end_time": "2020-06-15T13:59:17.412533Z",
     "start_time": "2020-06-15T13:59:17.397574Z"
    }
   },
   "outputs": [],
   "source": [
    "class KMeans:\n",
    "    def __init__(self, n_clusters, max_iter=10):\n",
    "        self.n_clusters = n_clusters\n",
    "#         self.distance = distance\n",
    "        self.max_iter = max_iter\n",
    "        self.cluster_centers_ = []\n",
    "\n",
    "    def fit(self,X):\n",
    "        self.cluster_centers_ = random.sample(list(X),self.n_clusters)\n",
    "        i = 0\n",
    "        while i < self.max_iter:\n",
    "            y = []\n",
    "            \n",
    "            for i in range(X.shape[0]):\n",
    "                \n",
    "                distances = [numpy.linalg.norm(X[i]-self.cluster_centers_[j]) for j in range(self.n_clusters)]\n",
    "                y.append(distances.index(min(distances)))\n",
    "\n",
    "            centroidbis = [ (numpy.mean(X[numpy.where(numpy.array(y) == cent)],axis=0)) for cent in range(self.n_clusters)]\n",
    "            \n",
    "            if (numpy.array(self.cluster_centers_) == numpy.array(centroidbis)).all():\n",
    "                return \n",
    "            \n",
    "            else: \n",
    "                self.cluster_centers_ = centroidbis.copy()\n",
    "                i += 1\n",
    "        \n",
    "                \n",
    "    def transform(self,X):\n",
    "        pass\n",
    "        \n",
    "    def predict(self,X):\n",
    "        array = [numpy.linalg.norm(X-centre, axis=1) for centre in self.cluster_centers_]\n",
    "        y = []\n",
    "        for j in range(len(array[0])):\n",
    "            liste = [array[i][j] for i in range(len(array))]\n",
    "            y.append(liste.index(min(liste)))\n",
    "        return y\n",
    "        "
   ]
  },
  {
   "cell_type": "code",
   "execution_count": 223,
   "metadata": {
    "ExecuteTime": {
     "end_time": "2020-06-15T13:59:20.238242Z",
     "start_time": "2020-06-15T13:59:19.973952Z"
    }
   },
   "outputs": [
    {
     "data": {
      "text/plain": [
       "<matplotlib.collections.PathCollection at 0x1c3ff12e6c8>"
      ]
     },
     "execution_count": 223,
     "metadata": {},
     "output_type": "execute_result"
    },
    {
     "data": {
      "image/png": "[encoded data removed]",
      "text/plain": [
       "<Figure size 432x288 with 1 Axes>"
      ]
     },
     "metadata": {
      "needs_background": "light"
     },
     "output_type": "display_data"
    }
   ],
   "source": [
    "kmean = KMeans(3, 10)\n",
    "kmean.fit(X)\n",
    "plt.scatter(X[:,0],X[:,1], c=kmean.predict(X))\n",
    "plt.scatter(numpy.array(kmean.cluster_centers_)[:,0],numpy.array(kmean.cluster_centers_)[:,1], s=200)\n"
   ]
  },
  {
   "cell_type": "code",
   "execution_count": 210,
   "metadata": {
    "ExecuteTime": {
     "end_time": "2020-06-15T13:07:43.277907Z",
     "start_time": "2020-06-15T13:07:43.272946Z"
    }
   },
   "outputs": [],
   "source": [
    "liste= numpy.array([2241,1,2,12,214,21,2])"
   ]
  },
  {
   "cell_type": "code",
   "execution_count": 224,
   "metadata": {
    "ExecuteTime": {
     "end_time": "2020-06-15T14:10:05.940530Z",
     "start_time": "2020-06-15T14:10:05.929887Z"
    }
   },
   "outputs": [],
   "source": [
    "class KMeans_all_numpy:\n",
    "    def __init__(self, n_clusters, iterations=10):\n",
    "        self.n_clusters = n_clusters\n",
    "        self.iterations = iterations\n",
    "        self.cluster_centers_ = numpy.array([])\n",
    "\n",
    "    def fit(self,X):\n",
    "        self.cluster_centers_ = random.sample(list(X),self.n_clusters)\n",
    "        i = 0\n",
    "        while i < self.iterations:\n",
    "            y = []\n",
    "            \n",
    "            for i in range(X.shape[0]):\n",
    "                \n",
    "                distances = [numpy.linalg.norm(X[i]-self.cluster_centers_[j]) for j in range(self.n_clusters)]\n",
    "                y.append(distances.index(min(distances)))\n",
    "\n",
    "            centroidbis = [ (numpy.mean(X[numpy.where(numpy.array(y) == cent)],axis=0)) for cent in range(self.n_clusters)]\n",
    "            \n",
    "            if (numpy.array(self.cluster_centers_) == numpy.array(centroidbis)).all():\n",
    "                return \n",
    "            \n",
    "            else: \n",
    "                self.cluster_centers_ = centroidbis.copy()\n",
    "                i += 1\n",
    "        \n",
    "                \n",
    "    def transform(self,X):\n",
    "        pass\n",
    "        \n",
    "    def predict(self,X):\n",
    "        array = [numpy.linalg.norm(X-centre, axis=1) for centre in self.cluster_centers_]\n",
    "        y = []\n",
    "        for j in range(len(array[0])):\n",
    "            liste = [array[i][j] for i in range(len(array))]\n",
    "            y.append(liste.index(min(liste)))\n",
    "        return y\n",
    "        "
   ]
  },
  {
   "cell_type": "code",
   "execution_count": 227,
   "metadata": {
    "ExecuteTime": {
     "end_time": "2020-06-15T14:10:38.686178Z",
     "start_time": "2020-06-15T14:10:38.681193Z"
    }
   },
   "outputs": [],
   "source": [
    "kms= KMeans_all_numpy(2)"
   ]
  },
  {
   "cell_type": "code",
   "execution_count": 228,
   "metadata": {
    "ExecuteTime": {
     "end_time": "2020-06-15T14:10:49.446627Z",
     "start_time": "2020-06-15T14:10:49.436613Z"
    }
   },
   "outputs": [],
   "source": [
    "kms.fit(X)"
   ]
  },
  {
   "cell_type": "code",
   "execution_count": 229,
   "metadata": {
    "ExecuteTime": {
     "end_time": "2020-06-15T14:11:12.076353Z",
     "start_time": "2020-06-15T14:11:12.068374Z"
    }
   },
   "outputs": [
    {
     "data": {
      "text/plain": [
       "[1,\n",
       " 1,\n",
       " 1,\n",
       " 1,\n",
       " 1,\n",
       " 1,\n",
       " 1,\n",
       " 1,\n",
       " 1,\n",
       " 1,\n",
       " 1,\n",
       " 1,\n",
       " 1,\n",
       " 1,\n",
       " 1,\n",
       " 1,\n",
       " 1,\n",
       " 1,\n",
       " 1,\n",
       " 1,\n",
       " 1,\n",
       " 1,\n",
       " 1,\n",
       " 1,\n",
       " 1,\n",
       " 1,\n",
       " 1,\n",
       " 1,\n",
       " 1,\n",
       " 1,\n",
       " 1,\n",
       " 1,\n",
       " 1,\n",
       " 1,\n",
       " 1,\n",
       " 1,\n",
       " 1,\n",
       " 1,\n",
       " 1,\n",
       " 1,\n",
       " 1,\n",
       " 1,\n",
       " 1,\n",
       " 1,\n",
       " 1,\n",
       " 1,\n",
       " 1,\n",
       " 1,\n",
       " 1,\n",
       " 1,\n",
       " 0,\n",
       " 0,\n",
       " 0,\n",
       " 1,\n",
       " 0,\n",
       " 1,\n",
       " 0,\n",
       " 1,\n",
       " 0,\n",
       " 1,\n",
       " 1,\n",
       " 1,\n",
       " 0,\n",
       " 0,\n",
       " 1,\n",
       " 0,\n",
       " 1,\n",
       " 1,\n",
       " 0,\n",
       " 1,\n",
       " 1,\n",
       " 0,\n",
       " 0,\n",
       " 0,\n",
       " 0,\n",
       " 0,\n",
       " 0,\n",
       " 0,\n",
       " 0,\n",
       " 1,\n",
       " 1,\n",
       " 1,\n",
       " 1,\n",
       " 0,\n",
       " 1,\n",
       " 0,\n",
       " 0,\n",
       " 0,\n",
       " 1,\n",
       " 1,\n",
       " 1,\n",
       " 0,\n",
       " 1,\n",
       " 1,\n",
       " 1,\n",
       " 1,\n",
       " 1,\n",
       " 0,\n",
       " 1,\n",
       " 1,\n",
       " 0,\n",
       " 1,\n",
       " 0,\n",
       " 0,\n",
       " 0,\n",
       " 0,\n",
       " 1,\n",
       " 0,\n",
       " 0,\n",
       " 0,\n",
       " 0,\n",
       " 0,\n",
       " 0,\n",
       " 1,\n",
       " 1,\n",
       " 0,\n",
       " 0,\n",
       " 0,\n",
       " 0,\n",
       " 0,\n",
       " 0,\n",
       " 1,\n",
       " 0,\n",
       " 0,\n",
       " 0,\n",
       " 0,\n",
       " 0,\n",
       " 0,\n",
       " 0,\n",
       " 0,\n",
       " 0,\n",
       " 0,\n",
       " 0,\n",
       " 0,\n",
       " 0,\n",
       " 0,\n",
       " 0,\n",
       " 0,\n",
       " 0,\n",
       " 0,\n",
       " 0,\n",
       " 0,\n",
       " 1,\n",
       " 0,\n",
       " 0,\n",
       " 0,\n",
       " 0,\n",
       " 0,\n",
       " 0,\n",
       " 1]"
      ]
     },
     "execution_count": 229,
     "metadata": {},
     "output_type": "execute_result"
    }
   ],
   "source": [
    "kms.predict(X)"
   ]
  }
 ],
 "metadata": {
  "kernelspec": {
   "display_name": "Python 3",
   "language": "python",
   "name": "python3"
  },
  "language_info": {
   "codemirror_mode": {
    "name": "ipython",
    "version": 3
   },
   "file_extension": ".py",
   "mimetype": "text/x-python",
   "name": "python",
   "nbconvert_exporter": "python",
   "pygments_lexer": "ipython3",
   "version": "3.7.6"
  },
  "latex_envs": {
   "LaTeX_envs_menu_present": true,
   "autoclose": false,
   "autocomplete": true,
   "bibliofile": "biblio.bib",
   "cite_by": "apalike",
   "current_citInitial": 1,
   "eqLabelWithNumbers": true,
   "eqNumInitial": 1,
   "hotkeys": {
    "equation": "Ctrl-E",
    "itemize": "Ctrl-I"
   },
   "labels_anchors": false,
   "latex_user_defs": false,
   "report_style_numbering": false,
   "user_envs_cfg": false
  },
  "toc": {
   "base_numbering": 1,
   "nav_menu": {},
   "number_sections": true,
   "sideBar": true,
   "skip_h1_title": false,
   "title_cell": "Table of Contents",
   "title_sidebar": "Contents",
   "toc_cell": false,
   "toc_position": {},
   "toc_section_display": true,
   "toc_window_display": false
  },
  "varInspector": {
   "cols": {
    "lenName": 16,
    "lenType": 16,
    "lenVar": 40
   },
   "kernels_config": {
    "python": {
     "delete_cmd_postfix": "",
     "delete_cmd_prefix": "del ",
     "library": "var_list.py",
     "varRefreshCmd": "print(var_dic_list())"
    },
    "r": {
     "delete_cmd_postfix": ") ",
     "delete_cmd_prefix": "rm(",
     "library": "var_list.r",
     "varRefreshCmd": "cat(var_dic_list()) "
    }
   },
   "types_to_exclude": [
    "module",
    "function",
    "builtin_function_or_method",
    "instance",
    "_Feature"
   ],
   "window_display": false
  }
 },
 "nbformat": 4,
 "nbformat_minor": 4
}
