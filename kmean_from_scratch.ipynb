{
 "cells": [
  {
   "cell_type": "code",
   "execution_count": 61,
   "metadata": {
    "ExecuteTime": {
     "end_time": "2020-06-15T09:40:49.613869Z",
     "start_time": "2020-06-15T09:40:49.605869Z"
    }
   },
   "outputs": [],
   "source": [
    "from sklearn import datasets\n",
    "import random\n",
    "import numpy\n",
    "\n",
    "iris = datasets.load_iris()\n",
    "X = iris.data[:, :2]  # we only take the first two features.\n",
    "y = iris.target\n"
   ]
  },
  {
   "cell_type": "code",
   "execution_count": 317,
   "metadata": {
    "ExecuteTime": {
     "end_time": "2020-06-15T12:03:15.360296Z",
     "start_time": "2020-06-15T12:03:15.350341Z"
    }
   },
   "outputs": [],
   "source": [
    "class KMeans:\n",
    "    def __init__(self, k, distance='euclidienne', iterations=10):\n",
    "        self.k = k\n",
    "        self.distance = distance\n",
    "        self.iterations = iterations\n",
    "        centroid = []\n",
    "\n",
    "    def fit(self,X):\n",
    "        self.centroid = random.sample(list(X),self.k)\n",
    "        print(self.centroid)\n",
    "        i = 0\n",
    "        while i <self.iterations:\n",
    "            y = []\n",
    "            for i in range(X.shape[0]):\n",
    "                distances = []\n",
    "                for j in range(self.k):\n",
    "                    if(self.distance == 'euclidienne'):\n",
    "                        distances.append(numpy.linalg.norm(X[i]-self.centroid[j]))\n",
    "                    else:\n",
    "                        distances.append(numpy.linalg.norm(X[i]-self.centroid[j]))\n",
    "\n",
    "                y.append(distances.index(min(distances)))\n",
    "\n",
    "            centroidbis = []  \n",
    "            for cent in range(self.k):\n",
    "                points = X[numpy.where(numpy.array(y) == cent)]\n",
    "                centroidbis.append(numpy.mean(points,axis=0))\n",
    "\n",
    "            if (numpy.array(self.centroid) == numpy.array(centroidbis)).all():\n",
    "                return \n",
    "            else: \n",
    "                self.centroid = centroidbis.copy()\n",
    "                i += 1\n",
    "\n",
    "    def transform(self,X):\n",
    "        array = [numpy.linalg.norm(X-centre, axis=0) for centre in self.centroid] \n",
    "        return numpy.min(array, axis =1)\n",
    "        \n",
    "\n"
   ]
  },
  {
   "cell_type": "code",
   "execution_count": 318,
   "metadata": {
    "ExecuteTime": {
     "end_time": "2020-06-15T12:03:16.379388Z",
     "start_time": "2020-06-15T12:03:16.362435Z"
    }
   },
   "outputs": [
    {
     "name": "stdout",
     "output_type": "stream",
     "text": [
      "[array([5.7, 2.8]), array([6.5, 3.2]), array([5.6, 2.7])]\n"
     ]
    }
   ],
   "source": [
    "kmean = KMeans(3,'euclidienne', 10)\n",
    "kmean.fit(X)"
   ]
  },
  {
   "cell_type": "code",
   "execution_count": 319,
   "metadata": {
    "ExecuteTime": {
     "end_time": "2020-06-15T12:03:17.411602Z",
     "start_time": "2020-06-15T12:03:17.404563Z"
    }
   },
   "outputs": [
    {
     "data": {
      "text/plain": [
       "array([5.40971828, 5.41590251, 5.83674153])"
      ]
     },
     "execution_count": 319,
     "metadata": {},
     "output_type": "execute_result"
    }
   ],
   "source": [
    "kmean.transform(X)"
   ]
  }
 ],
 "metadata": {
  "kernelspec": {
   "display_name": "Python 3",
   "language": "python",
   "name": "python3"
  },
  "language_info": {
   "codemirror_mode": {
    "name": "ipython",
    "version": 3
   },
   "file_extension": ".py",
   "mimetype": "text/x-python",
   "name": "python",
   "nbconvert_exporter": "python",
   "pygments_lexer": "ipython3",
   "version": "3.7.6"
  },
  "latex_envs": {
   "LaTeX_envs_menu_present": true,
   "autoclose": false,
   "autocomplete": true,
   "bibliofile": "biblio.bib",
   "cite_by": "apalike",
   "current_citInitial": 1,
   "eqLabelWithNumbers": true,
   "eqNumInitial": 1,
   "hotkeys": {
    "equation": "Ctrl-E",
    "itemize": "Ctrl-I"
   },
   "labels_anchors": false,
   "latex_user_defs": false,
   "report_style_numbering": false,
   "user_envs_cfg": false
  },
  "toc": {
   "base_numbering": 1,
   "nav_menu": {},
   "number_sections": true,
   "sideBar": true,
   "skip_h1_title": false,
   "title_cell": "Table of Contents",
   "title_sidebar": "Contents",
   "toc_cell": false,
   "toc_position": {},
   "toc_section_display": true,
   "toc_window_display": false
  },
  "varInspector": {
   "cols": {
    "lenName": 16,
    "lenType": 16,
    "lenVar": 40
   },
   "kernels_config": {
    "python": {
     "delete_cmd_postfix": "",
     "delete_cmd_prefix": "del ",
     "library": "var_list.py",
     "varRefreshCmd": "print(var_dic_list())"
    },
    "r": {
     "delete_cmd_postfix": ") ",
     "delete_cmd_prefix": "rm(",
     "library": "var_list.r",
     "varRefreshCmd": "cat(var_dic_list()) "
    }
   },
   "types_to_exclude": [
    "module",
    "function",
    "builtin_function_or_method",
    "instance",
    "_Feature"
   ],
   "window_display": false
  }
 },
 "nbformat": 4,
 "nbformat_minor": 4
}
