{
 "cells": [
  {
   "cell_type": "code",
   "execution_count": 3,
   "metadata": {
    "ExecuteTime": {
     "end_time": "2020-06-15T12:06:37.243778Z",
     "start_time": "2020-06-15T12:06:32.289115Z"
    }
   },
   "outputs": [],
   "source": [
    "from sklearn import datasets\n",
    "import random\n",
    "import numpy\n",
    "\n",
    "iris = datasets.load_iris()\n",
    "X = iris.data[:, :2]  # we only take the first two features.\n",
    "y = iris.target\n"
   ]
  },
  {
   "cell_type": "code",
   "execution_count": 48,
   "metadata": {
    "ExecuteTime": {
     "end_time": "2020-06-15T12:29:25.336459Z",
     "start_time": "2020-06-15T12:29:25.321449Z"
    }
   },
   "outputs": [],
   "source": [
    "class KMeans:\n",
    "    def __init__(self, k, distance='euclidienne', iterations=10):\n",
    "        self.k = k\n",
    "        self.distance = distance\n",
    "        self.iterations = iterations\n",
    "        centroid = []\n",
    "\n",
    "    def fit(self,X):\n",
    "        self.centroid = random.sample(list(X),self.k)\n",
    "        print(self.centroid)\n",
    "        i = 0\n",
    "        while i <self.iterations:\n",
    "            y = []\n",
    "            for i in range(X.shape[0]):\n",
    "                distances = []\n",
    "                for j in range(self.k):\n",
    "                    if(self.distance == 'euclidienne'):\n",
    "                        distances.append(numpy.linalg.norm(X[i]-self.centroid[j]))\n",
    "                    else:\n",
    "                        distances.append(numpy.linalg.norm(X[i]-self.centroid[j]))\n",
    "\n",
    "                y.append(distances.index(min(distances)))\n",
    "\n",
    "            centroidbis = []  \n",
    "            for cent in range(self.k):\n",
    "                points = X[numpy.where(numpy.array(y) == cent)]\n",
    "                centroidbis.append(numpy.mean(points,axis=0))\n",
    "\n",
    "            if (numpy.array(self.centroid) == numpy.array(centroidbis)).all():\n",
    "                return \n",
    "            else: \n",
    "                self.centroid = centroidbis.copy()\n",
    "                i += 1\n",
    "                \n",
    "    def transform(self,X):\n",
    "        pass\n",
    "        \n",
    "    def predict(self,X):\n",
    "        array = [numpy.linalg.norm(X-centre, axis=1) for centre in self.centroid]\n",
    "        y = []\n",
    "        for j in range(len(array[0])):\n",
    "            liste = [array[i][j] for i in range(len(array))]\n",
    "            y.append(liste.index(min(liste)))\n",
    "        return y\n",
    "        \n",
    "\n"
   ]
  },
  {
   "cell_type": "code",
   "execution_count": 63,
   "metadata": {
    "ExecuteTime": {
     "end_time": "2020-06-15T12:31:56.764297Z",
     "start_time": "2020-06-15T12:31:56.751304Z"
    }
   },
   "outputs": [
    {
     "name": "stdout",
     "output_type": "stream",
     "text": [
      "[array([6.1, 3. ]), array([5.6, 2.8]), array([5.1, 2.5]), array([5.8, 2.7]), array([6.4, 2.8])]\n"
     ]
    }
   ],
   "source": [
    "kmean = KMeans(5,'euclidienne', 10)\n",
    "kmean.fit(X)"
   ]
  },
  {
   "cell_type": "code",
   "execution_count": 53,
   "metadata": {
    "ExecuteTime": {
     "end_time": "2020-06-15T12:30:11.118438Z",
     "start_time": "2020-06-15T12:30:11.114453Z"
    }
   },
   "outputs": [],
   "source": [
    "import matplotlib.pyplot as plt"
   ]
  },
  {
   "cell_type": "code",
   "execution_count": 64,
   "metadata": {
    "ExecuteTime": {
     "end_time": "2020-06-15T12:32:05.161543Z",
     "start_time": "2020-06-15T12:32:04.997594Z"
    }
   },
   "outputs": [
    {
     "data": {
      "text/plain": [
       "<matplotlib.collections.PathCollection at 0x1c3f4b6d588>"
      ]
     },
     "execution_count": 64,
     "metadata": {},
     "output_type": "execute_result"
    },
    {
     "data": {
      "image/png": "[encoded data removed]",
      "text/plain": [
       "<Figure size 432x288 with 1 Axes>"
      ]
     },
     "metadata": {
      "needs_background": "light"
     },
     "output_type": "display_data"
    }
   ],
   "source": [
    "plt.scatter(X[:,0],X[:,1], c=kmean.predict(X))"
   ]
  }
 ],
 "metadata": {
  "kernelspec": {
   "display_name": "Python 3",
   "language": "python",
   "name": "python3"
  },
  "language_info": {
   "codemirror_mode": {
    "name": "ipython",
    "version": 3
   },
   "file_extension": ".py",
   "mimetype": "text/x-python",
   "name": "python",
   "nbconvert_exporter": "python",
   "pygments_lexer": "ipython3",
   "version": "3.7.6"
  },
  "latex_envs": {
   "LaTeX_envs_menu_present": true,
   "autoclose": false,
   "autocomplete": true,
   "bibliofile": "biblio.bib",
   "cite_by": "apalike",
   "current_citInitial": 1,
   "eqLabelWithNumbers": true,
   "eqNumInitial": 1,
   "hotkeys": {
    "equation": "Ctrl-E",
    "itemize": "Ctrl-I"
   },
   "labels_anchors": false,
   "latex_user_defs": false,
   "report_style_numbering": false,
   "user_envs_cfg": false
  },
  "toc": {
   "base_numbering": 1,
   "nav_menu": {},
   "number_sections": true,
   "sideBar": true,
   "skip_h1_title": false,
   "title_cell": "Table of Contents",
   "title_sidebar": "Contents",
   "toc_cell": false,
   "toc_position": {},
   "toc_section_display": true,
   "toc_window_display": false
  },
  "varInspector": {
   "cols": {
    "lenName": 16,
    "lenType": 16,
    "lenVar": 40
   },
   "kernels_config": {
    "python": {
     "delete_cmd_postfix": "",
     "delete_cmd_prefix": "del ",
     "library": "var_list.py",
     "varRefreshCmd": "print(var_dic_list())"
    },
    "r": {
     "delete_cmd_postfix": ") ",
     "delete_cmd_prefix": "rm(",
     "library": "var_list.r",
     "varRefreshCmd": "cat(var_dic_list()) "
    }
   },
   "types_to_exclude": [
    "module",
    "function",
    "builtin_function_or_method",
    "instance",
    "_Feature"
   ],
   "window_display": false
  }
 },
 "nbformat": 4,
 "nbformat_minor": 4
}
